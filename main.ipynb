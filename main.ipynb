{
 "cells": [
  {
   "cell_type": "markdown",
   "metadata": {},
   "source": [
    "# Claude 翻譯機\n",
    "\n",
    "## 使用方式\n",
    "1. 將欲翻譯的文字存入一個 txt 檔。每個段落以空行分隔。\n",
    "2. 填入以下變數：\n",
    "    - `INPUT_FILE`：欲翻譯的檔案名稱。\n",
    "    - `OUTPUT_FILE`：翻譯後的檔案名稱，程式執行完後將會產生該檔案。\n",
    "    - `LANGUAGE`：欲翻譯成的語言。\n",
    "    - `MODEL`：使用模型。可以參考 [Anthropic 的官方文件](https://docs.anthropic.com/claude/docs/models-overview#model-comparison)\n",
    "3. 在同個目錄下新增 `.env` 檔案，填入以下變數：\n",
    "    - `CLAUDE_API_KEY`：Anthropic 的 API key。\n",
    "4. 執行檔案。"
   ]
  },
  {
   "cell_type": "markdown",
   "metadata": {},
   "source": [
    "### 需輸入變數"
   ]
  },
  {
   "cell_type": "code",
   "execution_count": null,
   "metadata": {},
   "outputs": [],
   "source": [
    "INPUT_FILE = (\n",
    "    \"C:\\\\PuSung\\\\University\\\\112_Senior\\\\112-2 Academic\\\\Thinking Philosophically about Love\\\\W5\\\\紳士抑或禽獸.txt\"\n",
    ")\n",
    "OUTPUT_FILE = (\n",
    "    \"C:\\\\PuSung\\\\University\\\\112_Senior\\\\112-2 Academic\\\\Thinking Philosophically about Love\\\\W5\\\\紳士抑或禽獸_中文.txt\"\n",
    ")\n",
    "\n",
    "LANGUAGE = \"Traditional Chinese\"\n",
    "MODEL = \"claude-3-haiku-20240307\""
   ]
  },
  {
   "cell_type": "markdown",
   "metadata": {},
   "source": [
    "### 以下為程式碼"
   ]
  },
  {
   "cell_type": "code",
   "execution_count": null,
   "metadata": {},
   "outputs": [],
   "source": [
    "import anthropic\n",
    "from dotenv import load_dotenv\n",
    "import os\n",
    "import time "
   ]
  },
  {
   "cell_type": "code",
   "execution_count": null,
   "metadata": {},
   "outputs": [],
   "source": [
    "def preprocess_article(file_path):\n",
    "    \"\"\"\n",
    "    Preprocess the article, into a list of paragraphs.\n",
    "    \n",
    "    Args:\n",
    "        file_path(str): path to the article file\n",
    "    Returns:\n",
    "        list[str]: list of paragraphs, each paragraph is a string\n",
    "    \"\"\"\n",
    "    \n",
    "    # Read the file\n",
    "    with open(file_path, \"r\", encoding=\"utf-8\") as file:\n",
    "        content = file.read()\n",
    "\n",
    "    # Preprocess the content\n",
    "    paragraphs = content.split(\"\\n\\n\")\n",
    "    preprocessed_paragraphs = [p.strip().replace(\"\\n\", \" \").replace(\"- \", \"\") for p in paragraphs if p.strip()]\n",
    "\n",
    "    return preprocessed_paragraphs"
   ]
  },
  {
   "cell_type": "code",
   "execution_count": null,
   "metadata": {},
   "outputs": [],
   "source": [
    "def get_paragraph_translated(paragraph, model=MODEL, max_token=3000):\n",
    "    \"\"\"\n",
    "    Translate the given string into chinese using anthropic API.\n",
    "\n",
    "    Args:\n",
    "        paragraph(str): the paragraph to be translated\n",
    "        max_token(int): the maximum token to be used for translation\n",
    "    Returns:\n",
    "        str: the translated paragraph\n",
    "    \"\"\"\n",
    "\n",
    "    # Load the API key\n",
    "    load_dotenv()\n",
    "    api_key = os.getenv(\"CLAUDE_API_KEY\")\n",
    "\n",
    "    # Get first version of translation\n",
    "    instruction = f\"\"\"\n",
    "    Translate the following text into {LANGUAGE}.\n",
    "    Leave the names in original language. \n",
    "    The translated text should be in {LANGUAGE}.\n",
    "    The response should be the translation only. Do not include other text.\n",
    "    You must follow the above instructions. Or the result will be poor and ruin my career.\n",
    "    \n",
    "    Here is the paragraph: {paragraph}\"\"\"\n",
    "\n",
    "    # Translate the paragraph\n",
    "    client = anthropic.Anthropic(api_key=api_key)\n",
    "    message = client.messages.create(\n",
    "        model=model,  # 模型型號\n",
    "        max_tokens=max_token,\n",
    "        messages=[{\"role\": \"user\", \"content\": instruction}],\n",
    "        temperature=0.3,\n",
    "    )\n",
    "\n",
    "    return message.content[0].text"
   ]
  },
  {
   "cell_type": "code",
   "execution_count": null,
   "metadata": {},
   "outputs": [],
   "source": [
    "def save_translated_text(translated_paragraphs, output_file):\n",
    "    \"\"\"\n",
    "    Save the translated article into a file.\n",
    "    \n",
    "    Args:\n",
    "        translated_paragraphs(list[str]): list of translated paragraphs\n",
    "        output_file(str): path to the output file\n",
    "    Returns:\n",
    "        None\n",
    "    \"\"\"\n",
    "    \n",
    "    with open(output_file, \"w\", encoding=\"utf-8\") as file:\n",
    "        for paragraph in translated_paragraphs:\n",
    "            file.write(paragraph + \"\\n\\n\")"
   ]
  },
  {
   "cell_type": "code",
   "execution_count": null,
   "metadata": {},
   "outputs": [],
   "source": [
    "# Get the paragraphs\n",
    "paragraphs = preprocess_article(INPUT_FILE)\n",
    "par_cnt = len(paragraphs)\n",
    "\n",
    "# Translate the paragraphs\n",
    "translated_par = []\n",
    "par_index = 0\n",
    "while par_index != par_cnt:\n",
    "    try:\n",
    "        translated_par.append(get_paragraph_translated(paragraphs[par_index]))\n",
    "        par_index += 1\n",
    "        print(f\"Paragraph {par_index}/{par_cnt}: {translated_par[-1]}\")\n",
    "    except Exception as e:\n",
    "        print(e)\n",
    "        time.sleep(20) # Usually is the error of rate limit, wait for 20 seconds and try again\n",
    "\n",
    "# Save the translated paragraphs\n",
    "save_translated_text(translated_par, OUTPUT_FILE)"
   ]
  }
 ],
 "metadata": {
  "kernelspec": {
   "display_name": "Python 3",
   "language": "python",
   "name": "python3"
  },
  "language_info": {
   "codemirror_mode": {
    "name": "ipython",
    "version": 3
   },
   "file_extension": ".py",
   "mimetype": "text/x-python",
   "name": "python",
   "nbconvert_exporter": "python",
   "pygments_lexer": "ipython3",
   "version": "3.10.2"
  }
 },
 "nbformat": 4,
 "nbformat_minor": 2
}
